{
 "cells": [
  {
   "cell_type": "markdown",
   "id": "7614b4f9",
   "metadata": {},
   "source": [
    "# Data Extraction\n"
   ]
  },
  {
   "cell_type": "code",
   "execution_count": 1,
   "id": "08d6a5de",
   "metadata": {
    "ExecuteTime": {
     "end_time": "2024-04-20T07:30:22.910289Z",
     "start_time": "2024-04-20T07:30:22.907937Z"
    }
   },
   "outputs": [],
   "source": [
    "# Importing the Libraries\n",
    "import numpy as np\n",
    "import pandas as pd\n",
    "import datetime\n",
    "import matplotlib\n",
    "import matplotlib.pyplot as plt\n",
    "from matplotlib import colors\n",
    "import seaborn as sns\n",
    "from sklearn.preprocessing import LabelEncoder\n",
    "from sklearn.preprocessing import StandardScaler\n",
    "from sklearn.decomposition import PCA\n",
    "from sklearn.cluster import KMeans\n",
    "from sklearn.cluster import KMeans\n",
    "import matplotlib.pyplot as plt, numpy as np\n",
    "from mpl_toolkits.mplot3d import Axes3D\n",
    "from sklearn.cluster import AgglomerativeClustering\n",
    "from matplotlib.colors import ListedColormap\n",
    "from sklearn import metrics\n",
    "import warnings\n",
    "import sys\n",
    "\n",
    "if not sys.warnoptions:\n",
    "    warnings.simplefilter(\"ignore\")\n",
    "np.random.seed(42)"
   ]
  },
  {
   "cell_type": "code",
   "execution_count": 2,
   "id": "a33606c2",
   "metadata": {
    "ExecuteTime": {
     "end_time": "2024-04-20T07:30:23.222962Z",
     "start_time": "2024-04-20T07:30:23.201576Z"
    }
   },
   "outputs": [
    {
     "name": "stdout",
     "output_type": "stream",
     "text": [
      "Number of datapoints: 2240\n"
     ]
    },
    {
     "data": {
      "text/html": [
       "<div>\n",
       "<style scoped>\n",
       "    .dataframe tbody tr th:only-of-type {\n",
       "        vertical-align: middle;\n",
       "    }\n",
       "\n",
       "    .dataframe tbody tr th {\n",
       "        vertical-align: top;\n",
       "    }\n",
       "\n",
       "    .dataframe thead th {\n",
       "        text-align: right;\n",
       "    }\n",
       "</style>\n",
       "<table border=\"1\" class=\"dataframe\">\n",
       "  <thead>\n",
       "    <tr style=\"text-align: right;\">\n",
       "      <th></th>\n",
       "      <th>ID</th>\n",
       "      <th>Year_Birth</th>\n",
       "      <th>Education</th>\n",
       "      <th>Marital_Status</th>\n",
       "      <th>Income</th>\n",
       "      <th>Kidhome</th>\n",
       "      <th>Teenhome</th>\n",
       "      <th>Dt_Customer</th>\n",
       "      <th>Recency</th>\n",
       "      <th>MntWines</th>\n",
       "      <th>...</th>\n",
       "      <th>NumWebVisitsMonth</th>\n",
       "      <th>AcceptedCmp3</th>\n",
       "      <th>AcceptedCmp4</th>\n",
       "      <th>AcceptedCmp5</th>\n",
       "      <th>AcceptedCmp1</th>\n",
       "      <th>AcceptedCmp2</th>\n",
       "      <th>Complain</th>\n",
       "      <th>Z_CostContact</th>\n",
       "      <th>Z_Revenue</th>\n",
       "      <th>Response</th>\n",
       "    </tr>\n",
       "  </thead>\n",
       "  <tbody>\n",
       "    <tr>\n",
       "      <th>0</th>\n",
       "      <td>5524</td>\n",
       "      <td>1957</td>\n",
       "      <td>Graduation</td>\n",
       "      <td>Single</td>\n",
       "      <td>58138.0</td>\n",
       "      <td>0</td>\n",
       "      <td>0</td>\n",
       "      <td>04-09-2012</td>\n",
       "      <td>58</td>\n",
       "      <td>635</td>\n",
       "      <td>...</td>\n",
       "      <td>7</td>\n",
       "      <td>0</td>\n",
       "      <td>0</td>\n",
       "      <td>0</td>\n",
       "      <td>0</td>\n",
       "      <td>0</td>\n",
       "      <td>0</td>\n",
       "      <td>3</td>\n",
       "      <td>11</td>\n",
       "      <td>1</td>\n",
       "    </tr>\n",
       "    <tr>\n",
       "      <th>1</th>\n",
       "      <td>2174</td>\n",
       "      <td>1954</td>\n",
       "      <td>Graduation</td>\n",
       "      <td>Single</td>\n",
       "      <td>46344.0</td>\n",
       "      <td>1</td>\n",
       "      <td>1</td>\n",
       "      <td>08-03-2014</td>\n",
       "      <td>38</td>\n",
       "      <td>11</td>\n",
       "      <td>...</td>\n",
       "      <td>5</td>\n",
       "      <td>0</td>\n",
       "      <td>0</td>\n",
       "      <td>0</td>\n",
       "      <td>0</td>\n",
       "      <td>0</td>\n",
       "      <td>0</td>\n",
       "      <td>3</td>\n",
       "      <td>11</td>\n",
       "      <td>0</td>\n",
       "    </tr>\n",
       "    <tr>\n",
       "      <th>2</th>\n",
       "      <td>4141</td>\n",
       "      <td>1965</td>\n",
       "      <td>Graduation</td>\n",
       "      <td>Together</td>\n",
       "      <td>71613.0</td>\n",
       "      <td>0</td>\n",
       "      <td>0</td>\n",
       "      <td>21-08-2013</td>\n",
       "      <td>26</td>\n",
       "      <td>426</td>\n",
       "      <td>...</td>\n",
       "      <td>4</td>\n",
       "      <td>0</td>\n",
       "      <td>0</td>\n",
       "      <td>0</td>\n",
       "      <td>0</td>\n",
       "      <td>0</td>\n",
       "      <td>0</td>\n",
       "      <td>3</td>\n",
       "      <td>11</td>\n",
       "      <td>0</td>\n",
       "    </tr>\n",
       "    <tr>\n",
       "      <th>3</th>\n",
       "      <td>6182</td>\n",
       "      <td>1984</td>\n",
       "      <td>Graduation</td>\n",
       "      <td>Together</td>\n",
       "      <td>26646.0</td>\n",
       "      <td>1</td>\n",
       "      <td>0</td>\n",
       "      <td>10-02-2014</td>\n",
       "      <td>26</td>\n",
       "      <td>11</td>\n",
       "      <td>...</td>\n",
       "      <td>6</td>\n",
       "      <td>0</td>\n",
       "      <td>0</td>\n",
       "      <td>0</td>\n",
       "      <td>0</td>\n",
       "      <td>0</td>\n",
       "      <td>0</td>\n",
       "      <td>3</td>\n",
       "      <td>11</td>\n",
       "      <td>0</td>\n",
       "    </tr>\n",
       "    <tr>\n",
       "      <th>4</th>\n",
       "      <td>5324</td>\n",
       "      <td>1981</td>\n",
       "      <td>PhD</td>\n",
       "      <td>Married</td>\n",
       "      <td>58293.0</td>\n",
       "      <td>1</td>\n",
       "      <td>0</td>\n",
       "      <td>19-01-2014</td>\n",
       "      <td>94</td>\n",
       "      <td>173</td>\n",
       "      <td>...</td>\n",
       "      <td>5</td>\n",
       "      <td>0</td>\n",
       "      <td>0</td>\n",
       "      <td>0</td>\n",
       "      <td>0</td>\n",
       "      <td>0</td>\n",
       "      <td>0</td>\n",
       "      <td>3</td>\n",
       "      <td>11</td>\n",
       "      <td>0</td>\n",
       "    </tr>\n",
       "  </tbody>\n",
       "</table>\n",
       "<p>5 rows × 29 columns</p>\n",
       "</div>"
      ],
      "text/plain": [
       "     ID  Year_Birth   Education Marital_Status   Income  Kidhome  Teenhome  \\\n",
       "0  5524        1957  Graduation         Single  58138.0        0         0   \n",
       "1  2174        1954  Graduation         Single  46344.0        1         1   \n",
       "2  4141        1965  Graduation       Together  71613.0        0         0   \n",
       "3  6182        1984  Graduation       Together  26646.0        1         0   \n",
       "4  5324        1981         PhD        Married  58293.0        1         0   \n",
       "\n",
       "  Dt_Customer  Recency  MntWines  ...  NumWebVisitsMonth  AcceptedCmp3  \\\n",
       "0  04-09-2012       58       635  ...                  7             0   \n",
       "1  08-03-2014       38        11  ...                  5             0   \n",
       "2  21-08-2013       26       426  ...                  4             0   \n",
       "3  10-02-2014       26        11  ...                  6             0   \n",
       "4  19-01-2014       94       173  ...                  5             0   \n",
       "\n",
       "   AcceptedCmp4  AcceptedCmp5  AcceptedCmp1  AcceptedCmp2  Complain  \\\n",
       "0             0             0             0             0         0   \n",
       "1             0             0             0             0         0   \n",
       "2             0             0             0             0         0   \n",
       "3             0             0             0             0         0   \n",
       "4             0             0             0             0         0   \n",
       "\n",
       "   Z_CostContact  Z_Revenue  Response  \n",
       "0              3         11         1  \n",
       "1              3         11         0  \n",
       "2              3         11         0  \n",
       "3              3         11         0  \n",
       "4              3         11         0  \n",
       "\n",
       "[5 rows x 29 columns]"
      ]
     },
     "execution_count": 2,
     "metadata": {},
     "output_type": "execute_result"
    }
   ],
   "source": [
    "# Loading the dataset\n",
    "data = pd.read_csv(\"datasets/marketing_campaign.csv\", sep=\"\\t\")\n",
    "print(\"Number of datapoints:\", len(data))\n",
    "data.head()"
   ]
  },
  {
   "cell_type": "markdown",
   "id": "b0cc260f",
   "metadata": {},
   "source": [
    "## Cleaning\n",
    "\n",
    "Next, we clean the dataset for further analysis. To do that, first we obtain some information about the data.\n"
   ]
  },
  {
   "cell_type": "code",
   "execution_count": 3,
   "id": "c44c907f",
   "metadata": {
    "ExecuteTime": {
     "end_time": "2024-04-20T07:30:27.072895Z",
     "start_time": "2024-04-20T07:30:27.069235Z"
    }
   },
   "outputs": [
    {
     "name": "stdout",
     "output_type": "stream",
     "text": [
      "<class 'pandas.core.frame.DataFrame'>\n",
      "RangeIndex: 2240 entries, 0 to 2239\n",
      "Data columns (total 29 columns):\n",
      " #   Column               Non-Null Count  Dtype  \n",
      "---  ------               --------------  -----  \n",
      " 0   ID                   2240 non-null   int64  \n",
      " 1   Year_Birth           2240 non-null   int64  \n",
      " 2   Education            2240 non-null   object \n",
      " 3   Marital_Status       2240 non-null   object \n",
      " 4   Income               2216 non-null   float64\n",
      " 5   Kidhome              2240 non-null   int64  \n",
      " 6   Teenhome             2240 non-null   int64  \n",
      " 7   Dt_Customer          2240 non-null   object \n",
      " 8   Recency              2240 non-null   int64  \n",
      " 9   MntWines             2240 non-null   int64  \n",
      " 10  MntFruits            2240 non-null   int64  \n",
      " 11  MntMeatProducts      2240 non-null   int64  \n",
      " 12  MntFishProducts      2240 non-null   int64  \n",
      " 13  MntSweetProducts     2240 non-null   int64  \n",
      " 14  MntGoldProds         2240 non-null   int64  \n",
      " 15  NumDealsPurchases    2240 non-null   int64  \n",
      " 16  NumWebPurchases      2240 non-null   int64  \n",
      " 17  NumCatalogPurchases  2240 non-null   int64  \n",
      " 18  NumStorePurchases    2240 non-null   int64  \n",
      " 19  NumWebVisitsMonth    2240 non-null   int64  \n",
      " 20  AcceptedCmp3         2240 non-null   int64  \n",
      " 21  AcceptedCmp4         2240 non-null   int64  \n",
      " 22  AcceptedCmp5         2240 non-null   int64  \n",
      " 23  AcceptedCmp1         2240 non-null   int64  \n",
      " 24  AcceptedCmp2         2240 non-null   int64  \n",
      " 25  Complain             2240 non-null   int64  \n",
      " 26  Z_CostContact        2240 non-null   int64  \n",
      " 27  Z_Revenue            2240 non-null   int64  \n",
      " 28  Response             2240 non-null   int64  \n",
      "dtypes: float64(1), int64(25), object(3)\n",
      "memory usage: 507.6+ KB\n"
     ]
    }
   ],
   "source": [
    "data.info()"
   ]
  },
  {
   "cell_type": "markdown",
   "id": "2653bdf6",
   "metadata": {
    "ExecuteTime": {
     "end_time": "2024-04-20T07:30:28.938969Z",
     "start_time": "2024-04-20T07:30:28.930989Z"
    }
   },
   "source": [
    "From the number of non-null values, we can tell that:\n",
    "\n",
    "- There is data incompleteness in **income** (2216 values for 2240 customerIDs)\n",
    "- Education, Marital Status and Dt_Customer are objects that may have to be encoded to numerical categories later\n",
    "\n",
    "We also take a closer look at the Dt_Customer variable:\n"
   ]
  },
  {
   "cell_type": "code",
   "execution_count": 4,
   "id": "67b65ddc",
   "metadata": {},
   "outputs": [
    {
     "name": "stdout",
     "output_type": "stream",
     "text": [
      "0    04-09-2012\n",
      "1    08-03-2014\n",
      "2    21-08-2013\n",
      "3    10-02-2014\n",
      "4    19-01-2014\n",
      "Name: Dt_Customer, dtype: object\n"
     ]
    }
   ],
   "source": [
    "# View the first 5 entries of the 'Dt_Customer' column\n",
    "print(data[\"Dt_Customer\"].head(5))"
   ]
  },
  {
   "cell_type": "markdown",
   "id": "656ace72",
   "metadata": {
    "ExecuteTime": {
     "end_time": "2024-04-20T07:31:05.799762Z",
     "start_time": "2024-04-20T07:31:05.796469Z"
    }
   },
   "source": [
    "We notice that Dt_Customer is an object, not encoded in a proper DateTime format.\n",
    "\n",
    "A closer look at the database documentations:\n",
    "\n",
    "![dt_customer](assets/dt_customer.png)\n",
    "\n",
    "Here we observe that the Dt_Customer refers to the date that customer enrolled in the store. We further preprocess this into the number of days this customer has been enrolled, relative to the most recent signup, given the fact that we do not have a reference date to work with.\n"
   ]
  },
  {
   "cell_type": "code",
   "execution_count": 5,
   "id": "53a8e689",
   "metadata": {},
   "outputs": [
    {
     "name": "stdout",
     "output_type": "stream",
     "text": [
      "The total number of data-points after removing the rows with missing values are: 2216\n"
     ]
    }
   ],
   "source": [
    "# First, we remove the NA values\n",
    "data = data.dropna()\n",
    "print(\n",
    "    \"The total number of data-points after removing the rows with missing values are:\",\n",
    "    len(data),\n",
    ")"
   ]
  },
  {
   "cell_type": "code",
   "execution_count": 6,
   "id": "3f15c525",
   "metadata": {},
   "outputs": [
    {
     "name": "stdout",
     "output_type": "stream",
     "text": [
      "The newest customer's enrolment date in therecords: 2014-06-29\n",
      "The oldest customer's enrolment date in the records: 2012-07-30\n"
     ]
    }
   ],
   "source": [
    "data[\"Dt_Customer\"] = pd.to_datetime(data[\"Dt_Customer\"], format=\"%d-%m-%Y\")\n",
    "dates = []\n",
    "for i in data[\"Dt_Customer\"]:\n",
    "    i = i.date()\n",
    "    dates.append(i)\n",
    "# Dates of the newest and oldest recorded customer\n",
    "print(\"The newest customer's enrolment date in therecords:\", max(dates))\n",
    "print(\"The oldest customer's enrolment date in the records:\", min(dates))"
   ]
  },
  {
   "cell_type": "markdown",
   "id": "1b300747",
   "metadata": {},
   "source": [
    "Creating a new feature Customer_For to record the number of numerical days the customer has been enrolled.\n"
   ]
  },
  {
   "cell_type": "code",
   "execution_count": 7,
   "id": "1a884896",
   "metadata": {},
   "outputs": [
    {
     "name": "stdout",
     "output_type": "stream",
     "text": [
      "0       663\n",
      "1       113\n",
      "2       312\n",
      "3       139\n",
      "4       161\n",
      "       ... \n",
      "2235    381\n",
      "2236     19\n",
      "2237    155\n",
      "2238    156\n",
      "2239    622\n",
      "Name: Customer_For, Length: 2216, dtype: int64\n"
     ]
    }
   ],
   "source": [
    "# Created a feature \"Customer_For\"\n",
    "days = []\n",
    "d1 = max(dates)  # taking it to be the newest customer\n",
    "for i in dates:\n",
    "    delta = d1 - i\n",
    "    days.append(delta.days)\n",
    "data[\"Customer_For\"] = days\n",
    "data[\"Customer_For\"] = pd.to_numeric(data[\"Customer_For\"], errors=\"coerce\")\n",
    "print(data[\"Customer_For\"])"
   ]
  },
  {
   "cell_type": "markdown",
   "id": "d812a931",
   "metadata": {},
   "source": [
    "## Exploring Categorical Values\n",
    "\n",
    "Next, we take a closer look at the catergorical variables in the dataset.\n"
   ]
  },
  {
   "cell_type": "code",
   "execution_count": 8,
   "id": "0b1e0536",
   "metadata": {},
   "outputs": [
    {
     "name": "stdout",
     "output_type": "stream",
     "text": [
      "Total categories in the feature Marital_Status:\n",
      " Marital_Status\n",
      "Married     857\n",
      "Together    573\n",
      "Single      471\n",
      "Divorced    232\n",
      "Widow        76\n",
      "Alone         3\n",
      "Absurd        2\n",
      "YOLO          2\n",
      "Name: count, dtype: int64 \n",
      "\n",
      "Total categories in the feature Education:\n",
      " Education\n",
      "Graduation    1116\n",
      "PhD            481\n",
      "Master         365\n",
      "2n Cycle       200\n",
      "Basic           54\n",
      "Name: count, dtype: int64\n"
     ]
    }
   ],
   "source": [
    "print(\n",
    "    \"Total categories in the feature Marital_Status:\\n\",\n",
    "    data[\"Marital_Status\"].value_counts(),\n",
    "    \"\\n\",\n",
    ")\n",
    "print(\"Total categories in the feature Education:\\n\", data[\"Education\"].value_counts())\n"
   ]
  },
  {
   "cell_type": "markdown",
   "id": "73de7607",
   "metadata": {},
   "source": [
    "## Feature Engineering\n",
    "\n",
    "- We'll begin by extracting the \"Age\" of each customer using their \"Year_Birth\" information.\n",
    "\n",
    "- Next, we'll generate a new feature called \"Spent\" to represent the total amount spent by each customer across various categories over a two-year period.\n",
    "\n",
    "- Utilizing the \"Marital_Status\" data, we'll derive a new feature named \"Living_With\" to indicate the living situation of couples.\n",
    "\n",
    "- Another feature, \"Children,\" will be created to signify the total number of children in a household, encompassing both kids and teenagers.\n",
    "\n",
    "- To provide additional insight into the household composition, we'll engineer a feature called \"Family_Size.\"\n",
    "\n",
    "- Additionally, we'll craft a feature called \"Is_Parent\" to denote whether a customer is a parent.\n",
    "\n",
    "- Finally, we'll simplify the \"Education\" feature by categorizing its values into three distinct categories.\n",
    "\n",
    "Throughout this feature engineering process, redundant features will be identified and dropped.\n"
   ]
  },
  {
   "cell_type": "markdown",
   "id": "d6d9069b",
   "metadata": {},
   "source": [
    "### 1. Extracting Age from \"Year_Birth\"\n"
   ]
  },
  {
   "cell_type": "code",
   "execution_count": 9,
   "id": "3409a240",
   "metadata": {},
   "outputs": [
    {
     "name": "stdout",
     "output_type": "stream",
     "text": [
      "0       67\n",
      "1       70\n",
      "2       59\n",
      "3       40\n",
      "4       43\n",
      "        ..\n",
      "2235    57\n",
      "2236    78\n",
      "2237    43\n",
      "2238    68\n",
      "2239    70\n",
      "Name: Age, Length: 2216, dtype: int64\n"
     ]
    }
   ],
   "source": [
    "# Age of customer today\n",
    "data[\"Age\"] = 2024 - data[\"Year_Birth\"]\n",
    "print(data[\"Age\"])"
   ]
  },
  {
   "cell_type": "markdown",
   "id": "e4fe7901",
   "metadata": {},
   "source": [
    "### 2. Generate \"Spent\" to represent total amount spent\n"
   ]
  },
  {
   "cell_type": "code",
   "execution_count": 10,
   "id": "bca091b6",
   "metadata": {},
   "outputs": [
    {
     "name": "stdout",
     "output_type": "stream",
     "text": [
      "0       1617\n",
      "1         27\n",
      "2        776\n",
      "3         53\n",
      "4        422\n",
      "        ... \n",
      "2235    1341\n",
      "2236     444\n",
      "2237    1241\n",
      "2238     843\n",
      "2239     172\n",
      "Name: Spent, Length: 2216, dtype: int64\n"
     ]
    }
   ],
   "source": [
    "# Total spendings on various items\n",
    "data[\"Spent\"] = (\n",
    "    data[\"MntWines\"]\n",
    "    + data[\"MntFruits\"]\n",
    "    + data[\"MntMeatProducts\"]\n",
    "    + data[\"MntFishProducts\"]\n",
    "    + data[\"MntSweetProducts\"]\n",
    "    + data[\"MntGoldProds\"]\n",
    ")\n",
    "print(data[\"Spent\"])"
   ]
  },
  {
   "cell_type": "markdown",
   "id": "e6efa11a",
   "metadata": {},
   "source": [
    "### 3. \"Living_with\" feature to determine the living state of couples\n",
    "\n",
    "i.e. categorising all customers into EITHER \"Alone\" or \"Partner\"\n"
   ]
  },
  {
   "cell_type": "code",
   "execution_count": 11,
   "id": "91bed60d",
   "metadata": {},
   "outputs": [
    {
     "name": "stdout",
     "output_type": "stream",
     "text": [
      "0         Alone\n",
      "1         Alone\n",
      "2       Partner\n",
      "3       Partner\n",
      "4       Partner\n",
      "         ...   \n",
      "2235    Partner\n",
      "2236    Partner\n",
      "2237      Alone\n",
      "2238    Partner\n",
      "2239    Partner\n",
      "Name: Living_With, Length: 2216, dtype: object\n"
     ]
    }
   ],
   "source": [
    "# Deriving living situation by marital status\"Alone\"\n",
    "data[\"Living_With\"] = data[\"Marital_Status\"].replace(\n",
    "    {\n",
    "        \"Married\": \"Partner\",\n",
    "        \"Together\": \"Partner\",\n",
    "        \"Absurd\": \"Alone\",\n",
    "        \"Widow\": \"Alone\",\n",
    "        \"YOLO\": \"Alone\",\n",
    "        \"Divorced\": \"Alone\",\n",
    "        \"Single\": \"Alone\",\n",
    "    }\n",
    ")\n",
    "print(data[\"Living_With\"])"
   ]
  },
  {
   "cell_type": "markdown",
   "id": "c629005c",
   "metadata": {},
   "source": [
    "### 4. \"Children\" feature, to signify total number of non-adults with the customer\n"
   ]
  },
  {
   "cell_type": "code",
   "execution_count": 12,
   "id": "1759e955",
   "metadata": {},
   "outputs": [
    {
     "name": "stdout",
     "output_type": "stream",
     "text": [
      "0       0\n",
      "1       2\n",
      "2       0\n",
      "3       1\n",
      "4       1\n",
      "       ..\n",
      "2235    1\n",
      "2236    3\n",
      "2237    0\n",
      "2238    1\n",
      "2239    2\n",
      "Name: Children, Length: 2216, dtype: int64\n"
     ]
    }
   ],
   "source": [
    "# Feature indicating total children living in the household\n",
    "data[\"Children\"] = data[\"Kidhome\"] + data[\"Teenhome\"]\n",
    "print(data[\"Children\"])"
   ]
  },
  {
   "cell_type": "markdown",
   "id": "396c1240",
   "metadata": {},
   "source": [
    "### 5. \"Family_Size\" to observe family composition\n"
   ]
  },
  {
   "cell_type": "code",
   "execution_count": 13,
   "id": "99453a3e",
   "metadata": {},
   "outputs": [
    {
     "name": "stdout",
     "output_type": "stream",
     "text": [
      "0       1\n",
      "1       3\n",
      "2       2\n",
      "3       3\n",
      "4       3\n",
      "       ..\n",
      "2235    3\n",
      "2236    5\n",
      "2237    1\n",
      "2238    3\n",
      "2239    4\n",
      "Name: Family_Size, Length: 2216, dtype: int64\n"
     ]
    }
   ],
   "source": [
    "# Feature for total members in the householde\n",
    "data[\"Family_Size\"] = (\n",
    "    data[\"Living_With\"].replace({\"Alone\": 1, \"Partner\": 2}) + data[\"Children\"]\n",
    ")\n",
    "print(data[\"Family_Size\"])"
   ]
  },
  {
   "cell_type": "markdown",
   "id": "78f115cd",
   "metadata": {},
   "source": [
    "### 6. \"Is_Parent\" as the status of whether one has children\n"
   ]
  },
  {
   "cell_type": "code",
   "execution_count": 14,
   "id": "0bca0f32",
   "metadata": {},
   "outputs": [
    {
     "name": "stdout",
     "output_type": "stream",
     "text": [
      "0       0\n",
      "1       1\n",
      "2       0\n",
      "3       1\n",
      "4       1\n",
      "       ..\n",
      "2235    1\n",
      "2236    1\n",
      "2237    0\n",
      "2238    1\n",
      "2239    1\n",
      "Name: Is_Parent, Length: 2216, dtype: int32\n"
     ]
    }
   ],
   "source": [
    "# Feature pertaining parenthood\n",
    "data[\"Is_Parent\"] = np.where(data.Children > 0, 1, 0)\n",
    "print(data[\"Is_Parent\"])"
   ]
  },
  {
   "cell_type": "markdown",
   "id": "71acf054",
   "metadata": {},
   "source": [
    "### Renaming and cleanup of redundant variables:\n"
   ]
  },
  {
   "cell_type": "code",
   "execution_count": 15,
   "id": "5212d1f4",
   "metadata": {},
   "outputs": [],
   "source": [
    "# For clarity\n",
    "data = data.rename(\n",
    "    columns={\n",
    "        \"MntWines\": \"Wines\",\n",
    "        \"MntFruits\": \"Fruits\",\n",
    "        \"MntMeatProducts\": \"Meat\",\n",
    "        \"MntFishProducts\": \"Fish\",\n",
    "        \"MntSweetProducts\": \"Sweets\",\n",
    "        \"MntGoldProds\": \"Gold\",\n",
    "    }\n",
    ")\n",
    "\n",
    "# Dropping some of the redundant features\n",
    "to_drop = [\n",
    "    \"Marital_Status\",\n",
    "    \"Dt_Customer\",\n",
    "    \"Z_CostContact\",\n",
    "    \"Z_Revenue\",\n",
    "    \"Year_Birth\",\n",
    "    \"ID\",\n",
    "]\n",
    "data = data.drop(to_drop, axis=1)"
   ]
  },
  {
   "cell_type": "markdown",
   "id": "1a60e8fd",
   "metadata": {},
   "source": [
    "Reviewing the new dataset:\n"
   ]
  },
  {
   "cell_type": "code",
   "execution_count": 16,
   "id": "4466e1ad",
   "metadata": {},
   "outputs": [
    {
     "data": {
      "text/html": [
       "<div>\n",
       "<style scoped>\n",
       "    .dataframe tbody tr th:only-of-type {\n",
       "        vertical-align: middle;\n",
       "    }\n",
       "\n",
       "    .dataframe tbody tr th {\n",
       "        vertical-align: top;\n",
       "    }\n",
       "\n",
       "    .dataframe thead th {\n",
       "        text-align: right;\n",
       "    }\n",
       "</style>\n",
       "<table border=\"1\" class=\"dataframe\">\n",
       "  <thead>\n",
       "    <tr style=\"text-align: right;\">\n",
       "      <th></th>\n",
       "      <th>Income</th>\n",
       "      <th>Kidhome</th>\n",
       "      <th>Teenhome</th>\n",
       "      <th>Recency</th>\n",
       "      <th>Wines</th>\n",
       "      <th>Fruits</th>\n",
       "      <th>Meat</th>\n",
       "      <th>Fish</th>\n",
       "      <th>Sweets</th>\n",
       "      <th>Gold</th>\n",
       "      <th>...</th>\n",
       "      <th>AcceptedCmp1</th>\n",
       "      <th>AcceptedCmp2</th>\n",
       "      <th>Complain</th>\n",
       "      <th>Response</th>\n",
       "      <th>Customer_For</th>\n",
       "      <th>Age</th>\n",
       "      <th>Spent</th>\n",
       "      <th>Children</th>\n",
       "      <th>Family_Size</th>\n",
       "      <th>Is_Parent</th>\n",
       "    </tr>\n",
       "  </thead>\n",
       "  <tbody>\n",
       "    <tr>\n",
       "      <th>count</th>\n",
       "      <td>2216.000000</td>\n",
       "      <td>2216.000000</td>\n",
       "      <td>2216.000000</td>\n",
       "      <td>2216.000000</td>\n",
       "      <td>2216.000000</td>\n",
       "      <td>2216.000000</td>\n",
       "      <td>2216.000000</td>\n",
       "      <td>2216.000000</td>\n",
       "      <td>2216.000000</td>\n",
       "      <td>2216.000000</td>\n",
       "      <td>...</td>\n",
       "      <td>2216.000000</td>\n",
       "      <td>2216.000000</td>\n",
       "      <td>2216.000000</td>\n",
       "      <td>2216.000000</td>\n",
       "      <td>2216.000000</td>\n",
       "      <td>2216.000000</td>\n",
       "      <td>2216.000000</td>\n",
       "      <td>2216.000000</td>\n",
       "      <td>2216.000000</td>\n",
       "      <td>2216.000000</td>\n",
       "    </tr>\n",
       "    <tr>\n",
       "      <th>mean</th>\n",
       "      <td>52247.251354</td>\n",
       "      <td>0.441787</td>\n",
       "      <td>0.505415</td>\n",
       "      <td>49.012635</td>\n",
       "      <td>305.091606</td>\n",
       "      <td>26.356047</td>\n",
       "      <td>166.995939</td>\n",
       "      <td>37.637635</td>\n",
       "      <td>27.028881</td>\n",
       "      <td>43.965253</td>\n",
       "      <td>...</td>\n",
       "      <td>0.064079</td>\n",
       "      <td>0.013538</td>\n",
       "      <td>0.009477</td>\n",
       "      <td>0.150271</td>\n",
       "      <td>353.521209</td>\n",
       "      <td>55.179603</td>\n",
       "      <td>607.075361</td>\n",
       "      <td>0.947202</td>\n",
       "      <td>2.592509</td>\n",
       "      <td>0.714350</td>\n",
       "    </tr>\n",
       "    <tr>\n",
       "      <th>std</th>\n",
       "      <td>25173.076661</td>\n",
       "      <td>0.536896</td>\n",
       "      <td>0.544181</td>\n",
       "      <td>28.948352</td>\n",
       "      <td>337.327920</td>\n",
       "      <td>39.793917</td>\n",
       "      <td>224.283273</td>\n",
       "      <td>54.752082</td>\n",
       "      <td>41.072046</td>\n",
       "      <td>51.815414</td>\n",
       "      <td>...</td>\n",
       "      <td>0.244950</td>\n",
       "      <td>0.115588</td>\n",
       "      <td>0.096907</td>\n",
       "      <td>0.357417</td>\n",
       "      <td>202.434667</td>\n",
       "      <td>11.985554</td>\n",
       "      <td>602.900476</td>\n",
       "      <td>0.749062</td>\n",
       "      <td>0.905722</td>\n",
       "      <td>0.451825</td>\n",
       "    </tr>\n",
       "    <tr>\n",
       "      <th>min</th>\n",
       "      <td>1730.000000</td>\n",
       "      <td>0.000000</td>\n",
       "      <td>0.000000</td>\n",
       "      <td>0.000000</td>\n",
       "      <td>0.000000</td>\n",
       "      <td>0.000000</td>\n",
       "      <td>0.000000</td>\n",
       "      <td>0.000000</td>\n",
       "      <td>0.000000</td>\n",
       "      <td>0.000000</td>\n",
       "      <td>...</td>\n",
       "      <td>0.000000</td>\n",
       "      <td>0.000000</td>\n",
       "      <td>0.000000</td>\n",
       "      <td>0.000000</td>\n",
       "      <td>0.000000</td>\n",
       "      <td>28.000000</td>\n",
       "      <td>5.000000</td>\n",
       "      <td>0.000000</td>\n",
       "      <td>1.000000</td>\n",
       "      <td>0.000000</td>\n",
       "    </tr>\n",
       "    <tr>\n",
       "      <th>25%</th>\n",
       "      <td>35303.000000</td>\n",
       "      <td>0.000000</td>\n",
       "      <td>0.000000</td>\n",
       "      <td>24.000000</td>\n",
       "      <td>24.000000</td>\n",
       "      <td>2.000000</td>\n",
       "      <td>16.000000</td>\n",
       "      <td>3.000000</td>\n",
       "      <td>1.000000</td>\n",
       "      <td>9.000000</td>\n",
       "      <td>...</td>\n",
       "      <td>0.000000</td>\n",
       "      <td>0.000000</td>\n",
       "      <td>0.000000</td>\n",
       "      <td>0.000000</td>\n",
       "      <td>180.000000</td>\n",
       "      <td>47.000000</td>\n",
       "      <td>69.000000</td>\n",
       "      <td>0.000000</td>\n",
       "      <td>2.000000</td>\n",
       "      <td>0.000000</td>\n",
       "    </tr>\n",
       "    <tr>\n",
       "      <th>50%</th>\n",
       "      <td>51381.500000</td>\n",
       "      <td>0.000000</td>\n",
       "      <td>0.000000</td>\n",
       "      <td>49.000000</td>\n",
       "      <td>174.500000</td>\n",
       "      <td>8.000000</td>\n",
       "      <td>68.000000</td>\n",
       "      <td>12.000000</td>\n",
       "      <td>8.000000</td>\n",
       "      <td>24.500000</td>\n",
       "      <td>...</td>\n",
       "      <td>0.000000</td>\n",
       "      <td>0.000000</td>\n",
       "      <td>0.000000</td>\n",
       "      <td>0.000000</td>\n",
       "      <td>355.500000</td>\n",
       "      <td>54.000000</td>\n",
       "      <td>396.500000</td>\n",
       "      <td>1.000000</td>\n",
       "      <td>3.000000</td>\n",
       "      <td>1.000000</td>\n",
       "    </tr>\n",
       "    <tr>\n",
       "      <th>75%</th>\n",
       "      <td>68522.000000</td>\n",
       "      <td>1.000000</td>\n",
       "      <td>1.000000</td>\n",
       "      <td>74.000000</td>\n",
       "      <td>505.000000</td>\n",
       "      <td>33.000000</td>\n",
       "      <td>232.250000</td>\n",
       "      <td>50.000000</td>\n",
       "      <td>33.000000</td>\n",
       "      <td>56.000000</td>\n",
       "      <td>...</td>\n",
       "      <td>0.000000</td>\n",
       "      <td>0.000000</td>\n",
       "      <td>0.000000</td>\n",
       "      <td>0.000000</td>\n",
       "      <td>529.000000</td>\n",
       "      <td>65.000000</td>\n",
       "      <td>1048.000000</td>\n",
       "      <td>1.000000</td>\n",
       "      <td>3.000000</td>\n",
       "      <td>1.000000</td>\n",
       "    </tr>\n",
       "    <tr>\n",
       "      <th>max</th>\n",
       "      <td>666666.000000</td>\n",
       "      <td>2.000000</td>\n",
       "      <td>2.000000</td>\n",
       "      <td>99.000000</td>\n",
       "      <td>1493.000000</td>\n",
       "      <td>199.000000</td>\n",
       "      <td>1725.000000</td>\n",
       "      <td>259.000000</td>\n",
       "      <td>262.000000</td>\n",
       "      <td>321.000000</td>\n",
       "      <td>...</td>\n",
       "      <td>1.000000</td>\n",
       "      <td>1.000000</td>\n",
       "      <td>1.000000</td>\n",
       "      <td>1.000000</td>\n",
       "      <td>699.000000</td>\n",
       "      <td>131.000000</td>\n",
       "      <td>2525.000000</td>\n",
       "      <td>3.000000</td>\n",
       "      <td>5.000000</td>\n",
       "      <td>1.000000</td>\n",
       "    </tr>\n",
       "  </tbody>\n",
       "</table>\n",
       "<p>8 rows × 28 columns</p>\n",
       "</div>"
      ],
      "text/plain": [
       "              Income      Kidhome     Teenhome      Recency        Wines  \\\n",
       "count    2216.000000  2216.000000  2216.000000  2216.000000  2216.000000   \n",
       "mean    52247.251354     0.441787     0.505415    49.012635   305.091606   \n",
       "std     25173.076661     0.536896     0.544181    28.948352   337.327920   \n",
       "min      1730.000000     0.000000     0.000000     0.000000     0.000000   \n",
       "25%     35303.000000     0.000000     0.000000    24.000000    24.000000   \n",
       "50%     51381.500000     0.000000     0.000000    49.000000   174.500000   \n",
       "75%     68522.000000     1.000000     1.000000    74.000000   505.000000   \n",
       "max    666666.000000     2.000000     2.000000    99.000000  1493.000000   \n",
       "\n",
       "            Fruits         Meat         Fish       Sweets         Gold  ...  \\\n",
       "count  2216.000000  2216.000000  2216.000000  2216.000000  2216.000000  ...   \n",
       "mean     26.356047   166.995939    37.637635    27.028881    43.965253  ...   \n",
       "std      39.793917   224.283273    54.752082    41.072046    51.815414  ...   \n",
       "min       0.000000     0.000000     0.000000     0.000000     0.000000  ...   \n",
       "25%       2.000000    16.000000     3.000000     1.000000     9.000000  ...   \n",
       "50%       8.000000    68.000000    12.000000     8.000000    24.500000  ...   \n",
       "75%      33.000000   232.250000    50.000000    33.000000    56.000000  ...   \n",
       "max     199.000000  1725.000000   259.000000   262.000000   321.000000  ...   \n",
       "\n",
       "       AcceptedCmp1  AcceptedCmp2     Complain     Response  Customer_For  \\\n",
       "count   2216.000000   2216.000000  2216.000000  2216.000000   2216.000000   \n",
       "mean       0.064079      0.013538     0.009477     0.150271    353.521209   \n",
       "std        0.244950      0.115588     0.096907     0.357417    202.434667   \n",
       "min        0.000000      0.000000     0.000000     0.000000      0.000000   \n",
       "25%        0.000000      0.000000     0.000000     0.000000    180.000000   \n",
       "50%        0.000000      0.000000     0.000000     0.000000    355.500000   \n",
       "75%        0.000000      0.000000     0.000000     0.000000    529.000000   \n",
       "max        1.000000      1.000000     1.000000     1.000000    699.000000   \n",
       "\n",
       "               Age        Spent     Children  Family_Size    Is_Parent  \n",
       "count  2216.000000  2216.000000  2216.000000  2216.000000  2216.000000  \n",
       "mean     55.179603   607.075361     0.947202     2.592509     0.714350  \n",
       "std      11.985554   602.900476     0.749062     0.905722     0.451825  \n",
       "min      28.000000     5.000000     0.000000     1.000000     0.000000  \n",
       "25%      47.000000    69.000000     0.000000     2.000000     0.000000  \n",
       "50%      54.000000   396.500000     1.000000     3.000000     1.000000  \n",
       "75%      65.000000  1048.000000     1.000000     3.000000     1.000000  \n",
       "max     131.000000  2525.000000     3.000000     5.000000     1.000000  \n",
       "\n",
       "[8 rows x 28 columns]"
      ]
     },
     "execution_count": 16,
     "metadata": {},
     "output_type": "execute_result"
    }
   ],
   "source": [
    "data.describe()"
   ]
  }
 ],
 "metadata": {
  "kernelspec": {
   "display_name": "Python 3 (ipykernel)",
   "language": "python",
   "name": "python3"
  },
  "language_info": {
   "codemirror_mode": {
    "name": "ipython",
    "version": 3
   },
   "file_extension": ".py",
   "mimetype": "text/x-python",
   "name": "python",
   "nbconvert_exporter": "python",
   "pygments_lexer": "ipython3",
   "version": "3.11.5"
  }
 },
 "nbformat": 4,
 "nbformat_minor": 5
}
