{
 "cells": [
  {
   "cell_type": "markdown",
   "id": "7614b4f9",
   "metadata": {},
   "source": [
    "# Data Extraction\n",
    "\n",
    "### Importing necessary libraries:"
   ]
  },
  {
   "cell_type": "code",
   "execution_count": 1,
   "id": "08d6a5de",
   "metadata": {
    "ExecuteTime": {
     "end_time": "2024-04-20T07:30:22.910289Z",
     "start_time": "2024-04-20T07:30:22.907937Z"
    }
   },
   "outputs": [],
   "source": [
    "#Importing the Libraries\n",
    "import numpy as np\n",
    "import pandas as pd\n",
    "import datetime\n",
    "import matplotlib\n",
    "import matplotlib.pyplot as plt\n",
    "from matplotlib import colors\n",
    "import seaborn as sns\n",
    "from sklearn.preprocessing import LabelEncoder\n",
    "from sklearn.preprocessing import StandardScaler\n",
    "from sklearn.decomposition import PCA\n",
    "from yellowbrick.cluster import KElbowVisualizer\n",
    "from sklearn.cluster import KMeans\n",
    "import matplotlib.pyplot as plt, numpy as np\n",
    "from mpl_toolkits.mplot3d import Axes3D\n",
    "from sklearn.cluster import AgglomerativeClustering\n",
    "from matplotlib.colors import ListedColormap\n",
    "from sklearn import metrics\n",
    "import warnings\n",
    "import sys\n",
    "if not sys.warnoptions:\n",
    "    warnings.simplefilter(\"ignore\")\n",
    "np.random.seed(42)"
   ]
  },
  {
   "cell_type": "code",
   "execution_count": 2,
   "id": "a33606c2",
   "metadata": {
    "ExecuteTime": {
     "end_time": "2024-04-20T07:30:23.222962Z",
     "start_time": "2024-04-20T07:30:23.201576Z"
    }
   },
   "outputs": [
    {
     "name": "stdout",
     "output_type": "stream",
     "text": [
      "Number of datapoints: 2240\n"
     ]
    },
    {
     "data": {
      "text/html": [
       "<div>\n",
       "<style scoped>\n",
       "    .dataframe tbody tr th:only-of-type {\n",
       "        vertical-align: middle;\n",
       "    }\n",
       "\n",
       "    .dataframe tbody tr th {\n",
       "        vertical-align: top;\n",
       "    }\n",
       "\n",
       "    .dataframe thead th {\n",
       "        text-align: right;\n",
       "    }\n",
       "</style>\n",
       "<table border=\"1\" class=\"dataframe\">\n",
       "  <thead>\n",
       "    <tr style=\"text-align: right;\">\n",
       "      <th></th>\n",
       "      <th>ID</th>\n",
       "      <th>Year_Birth</th>\n",
       "      <th>Education</th>\n",
       "      <th>Marital_Status</th>\n",
       "      <th>Income</th>\n",
       "      <th>Kidhome</th>\n",
       "      <th>Teenhome</th>\n",
       "      <th>Dt_Customer</th>\n",
       "      <th>Recency</th>\n",
       "      <th>MntWines</th>\n",
       "      <th>...</th>\n",
       "      <th>NumWebVisitsMonth</th>\n",
       "      <th>AcceptedCmp3</th>\n",
       "      <th>AcceptedCmp4</th>\n",
       "      <th>AcceptedCmp5</th>\n",
       "      <th>AcceptedCmp1</th>\n",
       "      <th>AcceptedCmp2</th>\n",
       "      <th>Complain</th>\n",
       "      <th>Z_CostContact</th>\n",
       "      <th>Z_Revenue</th>\n",
       "      <th>Response</th>\n",
       "    </tr>\n",
       "  </thead>\n",
       "  <tbody>\n",
       "    <tr>\n",
       "      <th>0</th>\n",
       "      <td>5524</td>\n",
       "      <td>1957</td>\n",
       "      <td>Graduation</td>\n",
       "      <td>Single</td>\n",
       "      <td>58138.0</td>\n",
       "      <td>0</td>\n",
       "      <td>0</td>\n",
       "      <td>04-09-2012</td>\n",
       "      <td>58</td>\n",
       "      <td>635</td>\n",
       "      <td>...</td>\n",
       "      <td>7</td>\n",
       "      <td>0</td>\n",
       "      <td>0</td>\n",
       "      <td>0</td>\n",
       "      <td>0</td>\n",
       "      <td>0</td>\n",
       "      <td>0</td>\n",
       "      <td>3</td>\n",
       "      <td>11</td>\n",
       "      <td>1</td>\n",
       "    </tr>\n",
       "    <tr>\n",
       "      <th>1</th>\n",
       "      <td>2174</td>\n",
       "      <td>1954</td>\n",
       "      <td>Graduation</td>\n",
       "      <td>Single</td>\n",
       "      <td>46344.0</td>\n",
       "      <td>1</td>\n",
       "      <td>1</td>\n",
       "      <td>08-03-2014</td>\n",
       "      <td>38</td>\n",
       "      <td>11</td>\n",
       "      <td>...</td>\n",
       "      <td>5</td>\n",
       "      <td>0</td>\n",
       "      <td>0</td>\n",
       "      <td>0</td>\n",
       "      <td>0</td>\n",
       "      <td>0</td>\n",
       "      <td>0</td>\n",
       "      <td>3</td>\n",
       "      <td>11</td>\n",
       "      <td>0</td>\n",
       "    </tr>\n",
       "    <tr>\n",
       "      <th>2</th>\n",
       "      <td>4141</td>\n",
       "      <td>1965</td>\n",
       "      <td>Graduation</td>\n",
       "      <td>Together</td>\n",
       "      <td>71613.0</td>\n",
       "      <td>0</td>\n",
       "      <td>0</td>\n",
       "      <td>21-08-2013</td>\n",
       "      <td>26</td>\n",
       "      <td>426</td>\n",
       "      <td>...</td>\n",
       "      <td>4</td>\n",
       "      <td>0</td>\n",
       "      <td>0</td>\n",
       "      <td>0</td>\n",
       "      <td>0</td>\n",
       "      <td>0</td>\n",
       "      <td>0</td>\n",
       "      <td>3</td>\n",
       "      <td>11</td>\n",
       "      <td>0</td>\n",
       "    </tr>\n",
       "    <tr>\n",
       "      <th>3</th>\n",
       "      <td>6182</td>\n",
       "      <td>1984</td>\n",
       "      <td>Graduation</td>\n",
       "      <td>Together</td>\n",
       "      <td>26646.0</td>\n",
       "      <td>1</td>\n",
       "      <td>0</td>\n",
       "      <td>10-02-2014</td>\n",
       "      <td>26</td>\n",
       "      <td>11</td>\n",
       "      <td>...</td>\n",
       "      <td>6</td>\n",
       "      <td>0</td>\n",
       "      <td>0</td>\n",
       "      <td>0</td>\n",
       "      <td>0</td>\n",
       "      <td>0</td>\n",
       "      <td>0</td>\n",
       "      <td>3</td>\n",
       "      <td>11</td>\n",
       "      <td>0</td>\n",
       "    </tr>\n",
       "    <tr>\n",
       "      <th>4</th>\n",
       "      <td>5324</td>\n",
       "      <td>1981</td>\n",
       "      <td>PhD</td>\n",
       "      <td>Married</td>\n",
       "      <td>58293.0</td>\n",
       "      <td>1</td>\n",
       "      <td>0</td>\n",
       "      <td>19-01-2014</td>\n",
       "      <td>94</td>\n",
       "      <td>173</td>\n",
       "      <td>...</td>\n",
       "      <td>5</td>\n",
       "      <td>0</td>\n",
       "      <td>0</td>\n",
       "      <td>0</td>\n",
       "      <td>0</td>\n",
       "      <td>0</td>\n",
       "      <td>0</td>\n",
       "      <td>3</td>\n",
       "      <td>11</td>\n",
       "      <td>0</td>\n",
       "    </tr>\n",
       "  </tbody>\n",
       "</table>\n",
       "<p>5 rows × 29 columns</p>\n",
       "</div>"
      ],
      "text/plain": [
       "     ID  Year_Birth   Education Marital_Status   Income  Kidhome  Teenhome  \\\n",
       "0  5524        1957  Graduation         Single  58138.0        0         0   \n",
       "1  2174        1954  Graduation         Single  46344.0        1         1   \n",
       "2  4141        1965  Graduation       Together  71613.0        0         0   \n",
       "3  6182        1984  Graduation       Together  26646.0        1         0   \n",
       "4  5324        1981         PhD        Married  58293.0        1         0   \n",
       "\n",
       "  Dt_Customer  Recency  MntWines  ...  NumWebVisitsMonth  AcceptedCmp3  \\\n",
       "0  04-09-2012       58       635  ...                  7             0   \n",
       "1  08-03-2014       38        11  ...                  5             0   \n",
       "2  21-08-2013       26       426  ...                  4             0   \n",
       "3  10-02-2014       26        11  ...                  6             0   \n",
       "4  19-01-2014       94       173  ...                  5             0   \n",
       "\n",
       "   AcceptedCmp4  AcceptedCmp5  AcceptedCmp1  AcceptedCmp2  Complain  \\\n",
       "0             0             0             0             0         0   \n",
       "1             0             0             0             0         0   \n",
       "2             0             0             0             0         0   \n",
       "3             0             0             0             0         0   \n",
       "4             0             0             0             0         0   \n",
       "\n",
       "   Z_CostContact  Z_Revenue  Response  \n",
       "0              3         11         1  \n",
       "1              3         11         0  \n",
       "2              3         11         0  \n",
       "3              3         11         0  \n",
       "4              3         11         0  \n",
       "\n",
       "[5 rows x 29 columns]"
      ]
     },
     "execution_count": 2,
     "metadata": {},
     "output_type": "execute_result"
    }
   ],
   "source": [
    "#Loading the dataset\n",
    "data = pd.read_csv(\"datasets/marketing_campaign.csv\", sep=\"\\t\")\n",
    "print(\"Number of datapoints:\", len(data))\n",
    "data.head()"
   ]
  },
  {
   "cell_type": "markdown",
   "id": "b0cc260f",
   "metadata": {},
   "source": [
    "## Cleaning\n",
    "Next, we clean the dataset for further analysis. To do that, first we obtain some information about the data."
   ]
  },
  {
   "cell_type": "code",
   "execution_count": 3,
   "id": "c44c907f",
   "metadata": {
    "ExecuteTime": {
     "end_time": "2024-04-20T07:30:27.072895Z",
     "start_time": "2024-04-20T07:30:27.069235Z"
    }
   },
   "outputs": [
    {
     "name": "stdout",
     "output_type": "stream",
     "text": [
      "<class 'pandas.core.frame.DataFrame'>\n",
      "RangeIndex: 2240 entries, 0 to 2239\n",
      "Data columns (total 29 columns):\n",
      " #   Column               Non-Null Count  Dtype  \n",
      "---  ------               --------------  -----  \n",
      " 0   ID                   2240 non-null   int64  \n",
      " 1   Year_Birth           2240 non-null   int64  \n",
      " 2   Education            2240 non-null   object \n",
      " 3   Marital_Status       2240 non-null   object \n",
      " 4   Income               2216 non-null   float64\n",
      " 5   Kidhome              2240 non-null   int64  \n",
      " 6   Teenhome             2240 non-null   int64  \n",
      " 7   Dt_Customer          2240 non-null   object \n",
      " 8   Recency              2240 non-null   int64  \n",
      " 9   MntWines             2240 non-null   int64  \n",
      " 10  MntFruits            2240 non-null   int64  \n",
      " 11  MntMeatProducts      2240 non-null   int64  \n",
      " 12  MntFishProducts      2240 non-null   int64  \n",
      " 13  MntSweetProducts     2240 non-null   int64  \n",
      " 14  MntGoldProds         2240 non-null   int64  \n",
      " 15  NumDealsPurchases    2240 non-null   int64  \n",
      " 16  NumWebPurchases      2240 non-null   int64  \n",
      " 17  NumCatalogPurchases  2240 non-null   int64  \n",
      " 18  NumStorePurchases    2240 non-null   int64  \n",
      " 19  NumWebVisitsMonth    2240 non-null   int64  \n",
      " 20  AcceptedCmp3         2240 non-null   int64  \n",
      " 21  AcceptedCmp4         2240 non-null   int64  \n",
      " 22  AcceptedCmp5         2240 non-null   int64  \n",
      " 23  AcceptedCmp1         2240 non-null   int64  \n",
      " 24  AcceptedCmp2         2240 non-null   int64  \n",
      " 25  Complain             2240 non-null   int64  \n",
      " 26  Z_CostContact        2240 non-null   int64  \n",
      " 27  Z_Revenue            2240 non-null   int64  \n",
      " 28  Response             2240 non-null   int64  \n",
      "dtypes: float64(1), int64(25), object(3)\n",
      "memory usage: 507.6+ KB\n"
     ]
    }
   ],
   "source": [
    "data.info()"
   ]
  },
  {
   "cell_type": "markdown",
   "id": "2653bdf6",
   "metadata": {
    "ExecuteTime": {
     "end_time": "2024-04-20T07:30:28.938969Z",
     "start_time": "2024-04-20T07:30:28.930989Z"
    }
   },
   "source": [
    "From the number of non-null values, we can tell that:\n",
    "- There is data incompleteness in **income** (2216 values for 2240 customerIDs)\n",
    "- Education, Marital Status and Dt_Customer are objects that may have to be encoded to numerical categories later\n",
    "\n",
    "We also take a closer look at the Dt_Customer variable:"
   ]
  },
  {
   "cell_type": "code",
   "execution_count": 4,
   "id": "67b65ddc",
   "metadata": {},
   "outputs": [
    {
     "name": "stdout",
     "output_type": "stream",
     "text": [
      "0    04-09-2012\n",
      "1    08-03-2014\n",
      "2    21-08-2013\n",
      "3    10-02-2014\n",
      "4    19-01-2014\n",
      "Name: Dt_Customer, dtype: object\n"
     ]
    }
   ],
   "source": [
    "# View the first 5 entries of the 'Dt_Customer' column\n",
    "print(data['Dt_Customer'].head(5))"
   ]
  },
  {
   "cell_type": "markdown",
   "id": "656ace72",
   "metadata": {
    "ExecuteTime": {
     "end_time": "2024-04-20T07:31:05.799762Z",
     "start_time": "2024-04-20T07:31:05.796469Z"
    }
   },
   "source": [
    "We notice that Dt_Customer is an object, not encoded in a proper DateTime format.\n",
    "\n",
    "A closer look at the database documentations:\n",
    "\n",
    "![dt_customer](/assets/dt_customer.png)\n",
    "\n",
    "Here we observe that the Dt_Customer refers to the date that customer enrolled in the store. We further preprocess this into the number of days this customer has been enrolled, relative to the most recent signup, given the fact that we do not have a reference date to work with.\n"
   ]
  },
  {
   "cell_type": "code",
   "execution_count": 5,
   "id": "53a8e689",
   "metadata": {},
   "outputs": [
    {
     "name": "stdout",
     "output_type": "stream",
     "text": [
      "The total number of data-points after removing the rows with missing values are: 2216\n"
     ]
    }
   ],
   "source": [
    "#First, we remove the NA values\n",
    "data = data.dropna()\n",
    "print(\"The total number of data-points after removing the rows with missing values are:\", len(data))"
   ]
  },
  {
   "cell_type": "code",
   "execution_count": 6,
   "id": "3f15c525",
   "metadata": {},
   "outputs": [
    {
     "name": "stdout",
     "output_type": "stream",
     "text": [
      "The newest customer's enrolment date in therecords: 2014-12-06\n",
      "The oldest customer's enrolment date in the records: 2012-01-08\n"
     ]
    }
   ],
   "source": [
    "data[\"Dt_Customer\"] = pd.to_datetime(data[\"Dt_Customer\"])\n",
    "dates = []\n",
    "for i in data[\"Dt_Customer\"]:\n",
    "    i = i.date()\n",
    "    dates.append(i)  \n",
    "#Dates of the newest and oldest recorded customer\n",
    "print(\"The newest customer's enrolment date in therecords:\",max(dates))\n",
    "print(\"The oldest customer's enrolment date in the records:\",min(dates))\n"
   ]
  },
  {
   "cell_type": "markdown",
   "id": "1b300747",
   "metadata": {},
   "source": [
    "Creating a new feature Customer_For to record the number of numerical days the customer has been enrolled."
   ]
  },
  {
   "cell_type": "code",
   "execution_count": 7,
   "id": "1a884896",
   "metadata": {},
   "outputs": [
    {
     "name": "stdout",
     "output_type": "stream",
     "text": [
      "0       83894400000000000\n",
      "1       10800000000000000\n",
      "2       40780800000000000\n",
      "3        5616000000000000\n",
      "4       27734400000000000\n",
      "              ...        \n",
      "2235    46742400000000000\n",
      "2236     5270400000000000\n",
      "2237    27216000000000000\n",
      "2238    27302400000000000\n",
      "2239    67564800000000000\n",
      "Name: Customer_For, Length: 2216, dtype: int64\n"
     ]
    }
   ],
   "source": [
    "#Created a feature \"Customer_For\"\n",
    "days = []\n",
    "d1 = max(dates) #taking it to be the newest customer\n",
    "for i in dates:\n",
    "    delta = d1 - i\n",
    "    days.append(delta)\n",
    "data[\"Customer_For\"] = days\n",
    "data[\"Customer_For\"] = pd.to_numeric(data[\"Customer_For\"], errors=\"coerce\")\n",
    "print(data[\"Customer_For\"])"
   ]
  },
  {
   "cell_type": "markdown",
   "id": "d812a931",
   "metadata": {},
   "source": [
    "## Exploring Categorical Values\n",
    "Next, we take a closer look at the catergorical variables in the dataset.\n"
   ]
  },
  {
   "cell_type": "code",
   "execution_count": 8,
   "id": "0b1e0536",
   "metadata": {},
   "outputs": [
    {
     "name": "stdout",
     "output_type": "stream",
     "text": [
      "Total categories in the feature Marital_Status:\n",
      " Married     857\n",
      "Together    573\n",
      "Single      471\n",
      "Divorced    232\n",
      "Widow        76\n",
      "Alone         3\n",
      "Absurd        2\n",
      "YOLO          2\n",
      "Name: Marital_Status, dtype: int64 \n",
      "\n",
      "Total categories in the feature Education:\n",
      " Graduation    1116\n",
      "PhD            481\n",
      "Master         365\n",
      "2n Cycle       200\n",
      "Basic           54\n",
      "Name: Education, dtype: int64\n"
     ]
    }
   ],
   "source": [
    "print(\"Total categories in the feature Marital_Status:\\n\", data[\"Marital_Status\"].value_counts(), \"\\n\")\n",
    "print(\"Total categories in the feature Education:\\n\", data[\"Education\"].value_counts())"
   ]
  },
  {
   "cell_type": "markdown",
   "id": "73de7607",
   "metadata": {},
   "source": [
    "## Feature engineering\n",
    "\n",
    "- We'll begin by extracting the \"Age\" of each customer using their \"Year_Birth\" information. \n",
    "\n",
    "- Next, we'll generate a new feature called \"Spent\" to represent the total amount spent by each customer across various categories over a two-year period. \n",
    "\n",
    "- Utilizing the \"Marital_Status\" data, we'll derive a new feature named \"Living_With\" to indicate the living situation of couples. \n",
    "\n",
    "- Another feature, \"Children,\" will be created to signify the total number of children in a household, encompassing both kids and teenagers. \n",
    "\n",
    "- To provide additional insight into the household composition, we'll engineer a feature called \"Family_Size.\" \n",
    "\n",
    "- Additionally, we'll craft a feature called \"Is_Parent\" to denote whether a customer is a parent.\n",
    "\n",
    "- Finally, we'll simplify the \"Education\" feature by categorizing its values into three distinct categories. \n",
    "\n",
    "Throughout this feature engineering process, redundant features will be identified and dropped."
   ]
  },
  {
   "cell_type": "markdown",
   "id": "d6d9069b",
   "metadata": {},
   "source": [
    "### 1. Extracting Age from \"Year_Birth\""
   ]
  },
  {
   "cell_type": "code",
   "execution_count": 14,
   "id": "3409a240",
   "metadata": {},
   "outputs": [
    {
     "name": "stdout",
     "output_type": "stream",
     "text": [
      "0       67\n",
      "1       70\n",
      "2       59\n",
      "3       40\n",
      "4       43\n",
      "        ..\n",
      "2235    57\n",
      "2236    78\n",
      "2237    43\n",
      "2238    68\n",
      "2239    70\n",
      "Name: Age, Length: 2216, dtype: int64\n"
     ]
    }
   ],
   "source": [
    "#Age of customer today \n",
    "data[\"Age\"] = 2024-data[\"Year_Birth\"]\n",
    "print(data[\"Age\"])"
   ]
  },
  {
   "cell_type": "markdown",
   "id": "e4fe7901",
   "metadata": {},
   "source": [
    "### 2. Generate \"Spent\" to represent total amount spent"
   ]
  },
  {
   "cell_type": "code",
   "execution_count": 10,
   "id": "bca091b6",
   "metadata": {},
   "outputs": [
    {
     "name": "stdout",
     "output_type": "stream",
     "text": [
      "0       1617\n",
      "1         27\n",
      "2        776\n",
      "3         53\n",
      "4        422\n",
      "        ... \n",
      "2235    1341\n",
      "2236     444\n",
      "2237    1241\n",
      "2238     843\n",
      "2239     172\n",
      "Name: Spent, Length: 2216, dtype: int64\n"
     ]
    }
   ],
   "source": [
    "#Total spendings on various items\n",
    "data[\"Spent\"] = data[\"MntWines\"]+ data[\"MntFruits\"]+ data[\"MntMeatProducts\"]+ data[\"MntFishProducts\"]+ data[\"MntSweetProducts\"]+ data[\"MntGoldProds\"]\n",
    "print(data[\"Spent\"])"
   ]
  },
  {
   "cell_type": "markdown",
   "id": "e6efa11a",
   "metadata": {},
   "source": [
    "### 3. \"Living_with\" feature to determine the living state of couples\n",
    "i.e. categorising all customers into EITHER \"Alone\" or \"Partner\""
   ]
  },
  {
   "cell_type": "code",
   "execution_count": 12,
   "id": "91bed60d",
   "metadata": {},
   "outputs": [
    {
     "name": "stdout",
     "output_type": "stream",
     "text": [
      "0         Alone\n",
      "1         Alone\n",
      "2       Partner\n",
      "3       Partner\n",
      "4       Partner\n",
      "         ...   \n",
      "2235    Partner\n",
      "2236    Partner\n",
      "2237      Alone\n",
      "2238    Partner\n",
      "2239    Partner\n",
      "Name: Living_With, Length: 2216, dtype: object\n"
     ]
    }
   ],
   "source": [
    "#Deriving living situation by marital status\"Alone\"\n",
    "data[\"Living_With\"]=data[\"Marital_Status\"].replace({\"Married\":\"Partner\", \"Together\":\"Partner\", \"Absurd\":\"Alone\", \"Widow\":\"Alone\", \"YOLO\":\"Alone\", \"Divorced\":\"Alone\", \"Single\":\"Alone\",})\n",
    "print(data[\"Living_With\"])"
   ]
  },
  {
   "cell_type": "markdown",
   "id": "c629005c",
   "metadata": {},
   "source": [
    "### 4. \"Children\" feature, to signify total number of non-adults with the customer"
   ]
  },
  {
   "cell_type": "code",
   "execution_count": 13,
   "id": "1759e955",
   "metadata": {},
   "outputs": [
    {
     "name": "stdout",
     "output_type": "stream",
     "text": [
      "0       0\n",
      "1       2\n",
      "2       0\n",
      "3       1\n",
      "4       1\n",
      "       ..\n",
      "2235    1\n",
      "2236    3\n",
      "2237    0\n",
      "2238    1\n",
      "2239    2\n",
      "Name: Children, Length: 2216, dtype: int64\n"
     ]
    }
   ],
   "source": [
    "#Feature indicating total children living in the household\n",
    "data[\"Children\"]=data[\"Kidhome\"]+data[\"Teenhome\"]\n",
    "print(data[\"Children\"])"
   ]
  },
  {
   "cell_type": "markdown",
   "id": "396c1240",
   "metadata": {},
   "source": [
    "### 3. \"Family_Size\" to observe family composition"
   ]
  },
  {
   "cell_type": "code",
   "execution_count": 16,
   "id": "99453a3e",
   "metadata": {},
   "outputs": [
    {
     "name": "stdout",
     "output_type": "stream",
     "text": [
      "0       1\n",
      "1       3\n",
      "2       2\n",
      "3       3\n",
      "4       3\n",
      "       ..\n",
      "2235    3\n",
      "2236    5\n",
      "2237    1\n",
      "2238    3\n",
      "2239    4\n",
      "Name: Family_Size, Length: 2216, dtype: int64\n"
     ]
    }
   ],
   "source": [
    "#Feature for total members in the householde\n",
    "data[\"Family_Size\"] = data[\"Living_With\"].replace({\"Alone\": 1, \"Partner\":2})+ data[\"Children\"]\n",
    "print(data[\"Family_Size\"])"
   ]
  },
  {
   "cell_type": "markdown",
   "id": "78f115cd",
   "metadata": {},
   "source": [
    "### \"Is_Parent\" as the status of whether one has children"
   ]
  },
  {
   "cell_type": "code",
   "execution_count": 17,
   "id": "0bca0f32",
   "metadata": {},
   "outputs": [
    {
     "name": "stdout",
     "output_type": "stream",
     "text": [
      "0       0\n",
      "1       1\n",
      "2       0\n",
      "3       1\n",
      "4       1\n",
      "       ..\n",
      "2235    1\n",
      "2236    1\n",
      "2237    0\n",
      "2238    1\n",
      "2239    1\n",
      "Name: Is_Parent, Length: 2216, dtype: int64\n"
     ]
    }
   ],
   "source": [
    "#Feature pertaining parenthood\n",
    "data[\"Is_Parent\"] = np.where(data.Children> 0, 1, 0)\n",
    "print(data[\"Is_Parent\"])"
   ]
  },
  {
   "cell_type": "markdown",
   "id": "71acf054",
   "metadata": {},
   "source": [
    "### Renaming and cleanup of redundant variables:"
   ]
  },
  {
   "cell_type": "code",
   "execution_count": 18,
   "id": "5212d1f4",
   "metadata": {},
   "outputs": [],
   "source": [
    "#For clarity\n",
    "data=data.rename(columns={\"MntWines\": \"Wines\",\"MntFruits\":\"Fruits\",\"MntMeatProducts\":\"Meat\",\"MntFishProducts\":\"Fish\",\"MntSweetProducts\":\"Sweets\",\"MntGoldProds\":\"Gold\"})\n",
    "\n",
    "#Dropping some of the redundant features\n",
    "to_drop = [\"Marital_Status\", \"Dt_Customer\", \"Z_CostContact\", \"Z_Revenue\", \"Year_Birth\", \"ID\"]\n",
    "data = data.drop(to_drop, axis=1)"
   ]
  },
  {
   "cell_type": "code",
   "execution_count": null,
   "id": "eae48c67",
   "metadata": {},
   "outputs": [],
   "source": []
  }
 ],
 "metadata": {
  "kernelspec": {
   "display_name": "Python 3 (ipykernel)",
   "language": "python",
   "name": "python3"
  },
  "language_info": {
   "codemirror_mode": {
    "name": "ipython",
    "version": 3
   },
   "file_extension": ".py",
   "mimetype": "text/x-python",
   "name": "python",
   "nbconvert_exporter": "python",
   "pygments_lexer": "ipython3",
   "version": "3.9.12"
  }
 },
 "nbformat": 4,
 "nbformat_minor": 5
}
